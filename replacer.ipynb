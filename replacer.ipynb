{
 "cells": [
  {
   "cell_type": "code",
   "execution_count": 1,
   "id": "5fecd695-87dd-4eb6-92b9-a40fec077237",
   "metadata": {},
   "outputs": [],
   "source": [
    "from collections.abc import Iterable"
   ]
  },
  {
   "cell_type": "code",
   "execution_count": 2,
   "id": "953be3f2-92bc-4f2b-997c-4763698746d8",
   "metadata": {},
   "outputs": [],
   "source": [
    "FromTo = tuple[str, str]"
   ]
  },
  {
   "cell_type": "code",
   "execution_count": 3,
   "id": "1109e07b-67f9-4c2e-b94c-091e319000e1",
   "metadata": {},
   "outputs": [],
   "source": [
    "def zip_replace(text: str, changes: Iterable[FromTo]) -> str:\n",
    "    for from_, to in changes:\n",
    "        text = text.replace(from_, to)\n",
    "    return text"
   ]
  },
  {
   "cell_type": "code",
   "execution_count": null,
   "id": "13a2a63a-0604-4c6e-aadf-ba264c6eaf41",
   "metadata": {},
   "outputs": [],
   "source": []
  }
 ],
 "metadata": {
  "kernelspec": {
   "display_name": "Python 3 (ipykernel)",
   "language": "python",
   "name": "python3"
  },
  "language_info": {
   "codemirror_mode": {
    "name": "ipython",
    "version": 3
   },
   "file_extension": ".py",
   "mimetype": "text/x-python",
   "name": "python",
   "nbconvert_exporter": "python",
   "pygments_lexer": "ipython3",
   "version": "3.12.3"
  }
 },
 "nbformat": 4,
 "nbformat_minor": 5
}
